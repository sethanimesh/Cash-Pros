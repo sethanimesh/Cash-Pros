{
 "cells": [
  {
   "cell_type": "code",
   "execution_count": 250,
   "id": "57504f81",
   "metadata": {},
   "outputs": [],
   "source": [
    "import numpy as np \n",
    "import pandas as pd \n",
    "import seaborn as sns\n",
    "import matplotlib.pyplot as plt\n",
    "%matplotlib inline\n",
    "\n",
    "from mlxtend.preprocessing import TransactionEncoder\n",
    "from mlxtend.frequent_patterns import apriori"
   ]
  },
  {
   "cell_type": "code",
   "execution_count": 251,
   "id": "c41e78ea",
   "metadata": {},
   "outputs": [],
   "source": [
    "mydata = pd.read_csv('Sales.csv')"
   ]
  },
  {
   "cell_type": "code",
   "execution_count": 252,
   "id": "b9f9ceee",
   "metadata": {},
   "outputs": [
    {
     "data": {
      "text/plain": [
       "Index(['Order ID', 'Product', 'Quantity Ordered', 'Price Each', 'Order Date',\n",
       "       'Purchase Address'],\n",
       "      dtype='object')"
      ]
     },
     "execution_count": 252,
     "metadata": {},
     "output_type": "execute_result"
    }
   ],
   "source": [
    "mydata.columns"
   ]
  },
  {
   "cell_type": "code",
   "execution_count": 253,
   "id": "6d5f5934",
   "metadata": {},
   "outputs": [],
   "source": [
    "mydata=mydata.drop(['Purchase Address'], axis=1)"
   ]
  },
  {
   "cell_type": "code",
   "execution_count": 254,
   "id": "0e47381f",
   "metadata": {},
   "outputs": [
    {
     "data": {
      "text/html": [
       "<div>\n",
       "<style scoped>\n",
       "    .dataframe tbody tr th:only-of-type {\n",
       "        vertical-align: middle;\n",
       "    }\n",
       "\n",
       "    .dataframe tbody tr th {\n",
       "        vertical-align: top;\n",
       "    }\n",
       "\n",
       "    .dataframe thead th {\n",
       "        text-align: right;\n",
       "    }\n",
       "</style>\n",
       "<table border=\"1\" class=\"dataframe\">\n",
       "  <thead>\n",
       "    <tr style=\"text-align: right;\">\n",
       "      <th></th>\n",
       "      <th>Order ID</th>\n",
       "      <th>Product</th>\n",
       "      <th>Quantity Ordered</th>\n",
       "      <th>Price Each</th>\n",
       "      <th>Order Date</th>\n",
       "    </tr>\n",
       "  </thead>\n",
       "  <tbody>\n",
       "    <tr>\n",
       "      <th>0</th>\n",
       "      <td>176558</td>\n",
       "      <td>USB-C Charging Cable</td>\n",
       "      <td>2</td>\n",
       "      <td>11.95</td>\n",
       "      <td>04/19/19 08:46</td>\n",
       "    </tr>\n",
       "    <tr>\n",
       "      <th>1</th>\n",
       "      <td>NaN</td>\n",
       "      <td>NaN</td>\n",
       "      <td>NaN</td>\n",
       "      <td>NaN</td>\n",
       "      <td>NaN</td>\n",
       "    </tr>\n",
       "    <tr>\n",
       "      <th>2</th>\n",
       "      <td>176559</td>\n",
       "      <td>Bose SoundSport Headphones</td>\n",
       "      <td>1</td>\n",
       "      <td>99.99</td>\n",
       "      <td>04/07/19 22:30</td>\n",
       "    </tr>\n",
       "    <tr>\n",
       "      <th>3</th>\n",
       "      <td>176560</td>\n",
       "      <td>Google Phone</td>\n",
       "      <td>1</td>\n",
       "      <td>600</td>\n",
       "      <td>04/12/19 14:38</td>\n",
       "    </tr>\n",
       "    <tr>\n",
       "      <th>4</th>\n",
       "      <td>176560</td>\n",
       "      <td>Wired Headphones</td>\n",
       "      <td>1</td>\n",
       "      <td>11.99</td>\n",
       "      <td>04/12/19 14:38</td>\n",
       "    </tr>\n",
       "    <tr>\n",
       "      <th>5</th>\n",
       "      <td>176561</td>\n",
       "      <td>Wired Headphones</td>\n",
       "      <td>1</td>\n",
       "      <td>11.99</td>\n",
       "      <td>04/30/19 09:27</td>\n",
       "    </tr>\n",
       "    <tr>\n",
       "      <th>6</th>\n",
       "      <td>176562</td>\n",
       "      <td>USB-C Charging Cable</td>\n",
       "      <td>1</td>\n",
       "      <td>11.95</td>\n",
       "      <td>04/29/19 13:03</td>\n",
       "    </tr>\n",
       "    <tr>\n",
       "      <th>7</th>\n",
       "      <td>176563</td>\n",
       "      <td>Bose SoundSport Headphones</td>\n",
       "      <td>1</td>\n",
       "      <td>99.99</td>\n",
       "      <td>04/02/19 07:46</td>\n",
       "    </tr>\n",
       "    <tr>\n",
       "      <th>8</th>\n",
       "      <td>176564</td>\n",
       "      <td>USB-C Charging Cable</td>\n",
       "      <td>1</td>\n",
       "      <td>11.95</td>\n",
       "      <td>04/12/19 10:58</td>\n",
       "    </tr>\n",
       "    <tr>\n",
       "      <th>9</th>\n",
       "      <td>176565</td>\n",
       "      <td>Macbook Pro Laptop</td>\n",
       "      <td>1</td>\n",
       "      <td>1700</td>\n",
       "      <td>04/24/19 10:38</td>\n",
       "    </tr>\n",
       "  </tbody>\n",
       "</table>\n",
       "</div>"
      ],
      "text/plain": [
       "  Order ID                     Product Quantity Ordered Price Each  \\\n",
       "0   176558        USB-C Charging Cable                2      11.95   \n",
       "1      NaN                         NaN              NaN        NaN   \n",
       "2   176559  Bose SoundSport Headphones                1      99.99   \n",
       "3   176560                Google Phone                1        600   \n",
       "4   176560            Wired Headphones                1      11.99   \n",
       "5   176561            Wired Headphones                1      11.99   \n",
       "6   176562        USB-C Charging Cable                1      11.95   \n",
       "7   176563  Bose SoundSport Headphones                1      99.99   \n",
       "8   176564        USB-C Charging Cable                1      11.95   \n",
       "9   176565          Macbook Pro Laptop                1       1700   \n",
       "\n",
       "       Order Date  \n",
       "0  04/19/19 08:46  \n",
       "1             NaN  \n",
       "2  04/07/19 22:30  \n",
       "3  04/12/19 14:38  \n",
       "4  04/12/19 14:38  \n",
       "5  04/30/19 09:27  \n",
       "6  04/29/19 13:03  \n",
       "7  04/02/19 07:46  \n",
       "8  04/12/19 10:58  \n",
       "9  04/24/19 10:38  "
      ]
     },
     "execution_count": 254,
     "metadata": {},
     "output_type": "execute_result"
    }
   ],
   "source": [
    "mydata.head(10)"
   ]
  },
  {
   "cell_type": "code",
   "execution_count": 255,
   "id": "e68fc034",
   "metadata": {},
   "outputs": [],
   "source": [
    "def get_missing_data(df):\n",
    "    missing_data = df.isnull().sum().to_frame()\n",
    "    missing_data.columns = ['count']\n",
    "    missing_data['percent'] = missing_data['count']/df.shape[0]\n",
    "    missing_data.sort_values(by = 'count', ascending = False, inplace = False)\n",
    "    return missing_data"
   ]
  },
  {
   "cell_type": "code",
   "execution_count": 256,
   "id": "36b22d67",
   "metadata": {},
   "outputs": [
    {
     "name": "stdout",
     "output_type": "stream",
     "text": [
      "                  count   percent\n",
      "Order ID             59  0.003209\n",
      "Product              59  0.003209\n",
      "Quantity Ordered     59  0.003209\n",
      "Price Each           59  0.003209\n",
      "Order Date           59  0.003209\n"
     ]
    }
   ],
   "source": [
    "print(get_missing_data(mydata))"
   ]
  },
  {
   "cell_type": "code",
   "execution_count": 257,
   "id": "17440997",
   "metadata": {},
   "outputs": [
    {
     "name": "stdout",
     "output_type": "stream",
     "text": [
      "                  count  percent\n",
      "Order ID              0      0.0\n",
      "Product               0      0.0\n",
      "Quantity Ordered      0      0.0\n",
      "Price Each            0      0.0\n",
      "Order Date            0      0.0\n"
     ]
    }
   ],
   "source": [
    "mydata.dropna(axis = 0, inplace = True)\n",
    "print(get_missing_data(mydata))"
   ]
  },
  {
   "cell_type": "code",
   "execution_count": 258,
   "id": "77e8cf25",
   "metadata": {},
   "outputs": [
    {
     "data": {
      "text/html": [
       "<div>\n",
       "<style scoped>\n",
       "    .dataframe tbody tr th:only-of-type {\n",
       "        vertical-align: middle;\n",
       "    }\n",
       "\n",
       "    .dataframe tbody tr th {\n",
       "        vertical-align: top;\n",
       "    }\n",
       "\n",
       "    .dataframe thead th {\n",
       "        text-align: right;\n",
       "    }\n",
       "</style>\n",
       "<table border=\"1\" class=\"dataframe\">\n",
       "  <thead>\n",
       "    <tr style=\"text-align: right;\">\n",
       "      <th></th>\n",
       "      <th>Order ID</th>\n",
       "      <th>Product</th>\n",
       "      <th>Quantity Ordered</th>\n",
       "      <th>Price Each</th>\n",
       "      <th>Order Date</th>\n",
       "    </tr>\n",
       "  </thead>\n",
       "  <tbody>\n",
       "    <tr>\n",
       "      <th>count</th>\n",
       "      <td>18324</td>\n",
       "      <td>18324</td>\n",
       "      <td>18324</td>\n",
       "      <td>18324</td>\n",
       "      <td>18324</td>\n",
       "    </tr>\n",
       "    <tr>\n",
       "      <th>unique</th>\n",
       "      <td>17538</td>\n",
       "      <td>20</td>\n",
       "      <td>8</td>\n",
       "      <td>19</td>\n",
       "      <td>13584</td>\n",
       "    </tr>\n",
       "    <tr>\n",
       "      <th>top</th>\n",
       "      <td>Order ID</td>\n",
       "      <td>Lightning Charging Cable</td>\n",
       "      <td>1</td>\n",
       "      <td>14.95</td>\n",
       "      <td>Order Date</td>\n",
       "    </tr>\n",
       "    <tr>\n",
       "      <th>freq</th>\n",
       "      <td>35</td>\n",
       "      <td>2201</td>\n",
       "      <td>16558</td>\n",
       "      <td>2201</td>\n",
       "      <td>35</td>\n",
       "    </tr>\n",
       "  </tbody>\n",
       "</table>\n",
       "</div>"
      ],
      "text/plain": [
       "        Order ID                   Product Quantity Ordered Price Each  \\\n",
       "count      18324                     18324            18324      18324   \n",
       "unique     17538                        20                8         19   \n",
       "top     Order ID  Lightning Charging Cable                1      14.95   \n",
       "freq          35                      2201            16558       2201   \n",
       "\n",
       "        Order Date  \n",
       "count        18324  \n",
       "unique       13584  \n",
       "top     Order Date  \n",
       "freq            35  "
      ]
     },
     "execution_count": 258,
     "metadata": {},
     "output_type": "execute_result"
    }
   ],
   "source": [
    "mydata.head()\n",
    "mydata.dtypes\n",
    "mydata.describe()"
   ]
  },
  {
   "cell_type": "code",
   "execution_count": 259,
   "id": "8044fc49",
   "metadata": {
    "scrolled": true
   },
   "outputs": [],
   "source": [
    "Quantity_Ordered_str_idx = mydata.loc[~mydata['Quantity Ordered'].str.isdigit(),:].index\n",
    "mydata.drop(Quantity_Ordered_str_idx, axis = 0, inplace = True)"
   ]
  },
  {
   "cell_type": "code",
   "execution_count": 260,
   "id": "5cee1603",
   "metadata": {},
   "outputs": [],
   "source": [
    "mydata['Quantity Ordered'] = pd.to_numeric(mydata['Quantity Ordered']).astype('int8')\n",
    "mydata['Price Each'] = pd.to_numeric(mydata['Price Each']).astype('float32')\n",
    "mydata['Order Date'] = pd.to_datetime(mydata['Order Date'])"
   ]
  },
  {
   "cell_type": "code",
   "execution_count": 261,
   "id": "69776b4e",
   "metadata": {},
   "outputs": [
    {
     "data": {
      "text/html": [
       "<div>\n",
       "<style scoped>\n",
       "    .dataframe tbody tr th:only-of-type {\n",
       "        vertical-align: middle;\n",
       "    }\n",
       "\n",
       "    .dataframe tbody tr th {\n",
       "        vertical-align: top;\n",
       "    }\n",
       "\n",
       "    .dataframe thead th {\n",
       "        text-align: right;\n",
       "    }\n",
       "</style>\n",
       "<table border=\"1\" class=\"dataframe\">\n",
       "  <thead>\n",
       "    <tr style=\"text-align: right;\">\n",
       "      <th></th>\n",
       "      <th>Quantity Ordered</th>\n",
       "      <th>Price Each</th>\n",
       "    </tr>\n",
       "  </thead>\n",
       "  <tbody>\n",
       "    <tr>\n",
       "      <th>count</th>\n",
       "      <td>18289.00000</td>\n",
       "      <td>18289.000000</td>\n",
       "    </tr>\n",
       "    <tr>\n",
       "      <th>mean</th>\n",
       "      <td>1.12461</td>\n",
       "      <td>184.439407</td>\n",
       "    </tr>\n",
       "    <tr>\n",
       "      <th>std</th>\n",
       "      <td>0.43641</td>\n",
       "      <td>330.902649</td>\n",
       "    </tr>\n",
       "    <tr>\n",
       "      <th>min</th>\n",
       "      <td>1.00000</td>\n",
       "      <td>2.990000</td>\n",
       "    </tr>\n",
       "    <tr>\n",
       "      <th>25%</th>\n",
       "      <td>1.00000</td>\n",
       "      <td>11.950000</td>\n",
       "    </tr>\n",
       "    <tr>\n",
       "      <th>50%</th>\n",
       "      <td>1.00000</td>\n",
       "      <td>14.950000</td>\n",
       "    </tr>\n",
       "    <tr>\n",
       "      <th>75%</th>\n",
       "      <td>1.00000</td>\n",
       "      <td>150.000000</td>\n",
       "    </tr>\n",
       "    <tr>\n",
       "      <th>max</th>\n",
       "      <td>7.00000</td>\n",
       "      <td>1700.000000</td>\n",
       "    </tr>\n",
       "  </tbody>\n",
       "</table>\n",
       "</div>"
      ],
      "text/plain": [
       "       Quantity Ordered    Price Each\n",
       "count       18289.00000  18289.000000\n",
       "mean            1.12461    184.439407\n",
       "std             0.43641    330.902649\n",
       "min             1.00000      2.990000\n",
       "25%             1.00000     11.950000\n",
       "50%             1.00000     14.950000\n",
       "75%             1.00000    150.000000\n",
       "max             7.00000   1700.000000"
      ]
     },
     "execution_count": 261,
     "metadata": {},
     "output_type": "execute_result"
    }
   ],
   "source": [
    "mydata[['Quantity Ordered', 'Price Each']].describe()"
   ]
  },
  {
   "cell_type": "code",
   "execution_count": 262,
   "id": "a4cba739",
   "metadata": {},
   "outputs": [
    {
     "data": {
      "text/html": [
       "<div>\n",
       "<style scoped>\n",
       "    .dataframe tbody tr th:only-of-type {\n",
       "        vertical-align: middle;\n",
       "    }\n",
       "\n",
       "    .dataframe tbody tr th {\n",
       "        vertical-align: top;\n",
       "    }\n",
       "\n",
       "    .dataframe thead th {\n",
       "        text-align: right;\n",
       "    }\n",
       "</style>\n",
       "<table border=\"1\" class=\"dataframe\">\n",
       "  <thead>\n",
       "    <tr style=\"text-align: right;\">\n",
       "      <th></th>\n",
       "      <th>Order ID</th>\n",
       "      <th>Product</th>\n",
       "      <th>Quantity Ordered</th>\n",
       "      <th>Price Each</th>\n",
       "      <th>Order Date</th>\n",
       "    </tr>\n",
       "  </thead>\n",
       "  <tbody>\n",
       "    <tr>\n",
       "      <th>0</th>\n",
       "      <td>176558</td>\n",
       "      <td>USB-C Charging Cable</td>\n",
       "      <td>2</td>\n",
       "      <td>11.950000</td>\n",
       "      <td>2019-04-19 08:46:00</td>\n",
       "    </tr>\n",
       "    <tr>\n",
       "      <th>2</th>\n",
       "      <td>176559</td>\n",
       "      <td>Bose SoundSport Headphones</td>\n",
       "      <td>1</td>\n",
       "      <td>99.989998</td>\n",
       "      <td>2019-04-07 22:30:00</td>\n",
       "    </tr>\n",
       "    <tr>\n",
       "      <th>3</th>\n",
       "      <td>176560</td>\n",
       "      <td>Google Phone</td>\n",
       "      <td>1</td>\n",
       "      <td>600.000000</td>\n",
       "      <td>2019-04-12 14:38:00</td>\n",
       "    </tr>\n",
       "    <tr>\n",
       "      <th>4</th>\n",
       "      <td>176560</td>\n",
       "      <td>Wired Headphones</td>\n",
       "      <td>1</td>\n",
       "      <td>11.990000</td>\n",
       "      <td>2019-04-12 14:38:00</td>\n",
       "    </tr>\n",
       "    <tr>\n",
       "      <th>5</th>\n",
       "      <td>176561</td>\n",
       "      <td>Wired Headphones</td>\n",
       "      <td>1</td>\n",
       "      <td>11.990000</td>\n",
       "      <td>2019-04-30 09:27:00</td>\n",
       "    </tr>\n",
       "  </tbody>\n",
       "</table>\n",
       "</div>"
      ],
      "text/plain": [
       "  Order ID                     Product  Quantity Ordered  Price Each  \\\n",
       "0   176558        USB-C Charging Cable                 2   11.950000   \n",
       "2   176559  Bose SoundSport Headphones                 1   99.989998   \n",
       "3   176560                Google Phone                 1  600.000000   \n",
       "4   176560            Wired Headphones                 1   11.990000   \n",
       "5   176561            Wired Headphones                 1   11.990000   \n",
       "\n",
       "           Order Date  \n",
       "0 2019-04-19 08:46:00  \n",
       "2 2019-04-07 22:30:00  \n",
       "3 2019-04-12 14:38:00  \n",
       "4 2019-04-12 14:38:00  \n",
       "5 2019-04-30 09:27:00  "
      ]
     },
     "execution_count": 262,
     "metadata": {},
     "output_type": "execute_result"
    }
   ],
   "source": [
    "mydata.head()"
   ]
  },
  {
   "cell_type": "code",
   "execution_count": 263,
   "id": "970dc2bf",
   "metadata": {},
   "outputs": [],
   "source": [
    "mydata['Revenue'] = mydata['Quantity Ordered'] * mydata['Price Each']\n",
    "\n",
    "mydata['Year'] =  mydata['Order Date'].dt.year\n",
    "\n",
    "mydata['Month'] = mydata['Order Date'].dt.month\n",
    "\n",
    "mydata['day']  = mydata['Order Date'].dt.day\n",
    "\n",
    "mydata['Hour'] = mydata['Order Date'].dt.hour\n",
    "\n",
    "mydata['MonthName'] = mydata['Order Date'].dt.month_name()"
   ]
  },
  {
   "cell_type": "code",
   "execution_count": 264,
   "id": "3c48328c",
   "metadata": {},
   "outputs": [
    {
     "data": {
      "text/html": [
       "<div>\n",
       "<style scoped>\n",
       "    .dataframe tbody tr th:only-of-type {\n",
       "        vertical-align: middle;\n",
       "    }\n",
       "\n",
       "    .dataframe tbody tr th {\n",
       "        vertical-align: top;\n",
       "    }\n",
       "\n",
       "    .dataframe thead th {\n",
       "        text-align: right;\n",
       "    }\n",
       "</style>\n",
       "<table border=\"1\" class=\"dataframe\">\n",
       "  <thead>\n",
       "    <tr style=\"text-align: right;\">\n",
       "      <th></th>\n",
       "      <th>Order ID</th>\n",
       "      <th>Product</th>\n",
       "      <th>Quantity Ordered</th>\n",
       "      <th>Price Each</th>\n",
       "      <th>Order Date</th>\n",
       "      <th>Revenue</th>\n",
       "      <th>Year</th>\n",
       "      <th>Month</th>\n",
       "      <th>day</th>\n",
       "      <th>Hour</th>\n",
       "      <th>MonthName</th>\n",
       "    </tr>\n",
       "  </thead>\n",
       "  <tbody>\n",
       "    <tr>\n",
       "      <th>0</th>\n",
       "      <td>176558</td>\n",
       "      <td>USB-C Charging Cable</td>\n",
       "      <td>2</td>\n",
       "      <td>11.950000</td>\n",
       "      <td>2019-04-19 08:46:00</td>\n",
       "      <td>23.900000</td>\n",
       "      <td>2019</td>\n",
       "      <td>4</td>\n",
       "      <td>19</td>\n",
       "      <td>8</td>\n",
       "      <td>April</td>\n",
       "    </tr>\n",
       "    <tr>\n",
       "      <th>2</th>\n",
       "      <td>176559</td>\n",
       "      <td>Bose SoundSport Headphones</td>\n",
       "      <td>1</td>\n",
       "      <td>99.989998</td>\n",
       "      <td>2019-04-07 22:30:00</td>\n",
       "      <td>99.989998</td>\n",
       "      <td>2019</td>\n",
       "      <td>4</td>\n",
       "      <td>7</td>\n",
       "      <td>22</td>\n",
       "      <td>April</td>\n",
       "    </tr>\n",
       "    <tr>\n",
       "      <th>3</th>\n",
       "      <td>176560</td>\n",
       "      <td>Google Phone</td>\n",
       "      <td>1</td>\n",
       "      <td>600.000000</td>\n",
       "      <td>2019-04-12 14:38:00</td>\n",
       "      <td>600.000000</td>\n",
       "      <td>2019</td>\n",
       "      <td>4</td>\n",
       "      <td>12</td>\n",
       "      <td>14</td>\n",
       "      <td>April</td>\n",
       "    </tr>\n",
       "    <tr>\n",
       "      <th>4</th>\n",
       "      <td>176560</td>\n",
       "      <td>Wired Headphones</td>\n",
       "      <td>1</td>\n",
       "      <td>11.990000</td>\n",
       "      <td>2019-04-12 14:38:00</td>\n",
       "      <td>11.990000</td>\n",
       "      <td>2019</td>\n",
       "      <td>4</td>\n",
       "      <td>12</td>\n",
       "      <td>14</td>\n",
       "      <td>April</td>\n",
       "    </tr>\n",
       "    <tr>\n",
       "      <th>5</th>\n",
       "      <td>176561</td>\n",
       "      <td>Wired Headphones</td>\n",
       "      <td>1</td>\n",
       "      <td>11.990000</td>\n",
       "      <td>2019-04-30 09:27:00</td>\n",
       "      <td>11.990000</td>\n",
       "      <td>2019</td>\n",
       "      <td>4</td>\n",
       "      <td>30</td>\n",
       "      <td>9</td>\n",
       "      <td>April</td>\n",
       "    </tr>\n",
       "  </tbody>\n",
       "</table>\n",
       "</div>"
      ],
      "text/plain": [
       "  Order ID                     Product  Quantity Ordered  Price Each  \\\n",
       "0   176558        USB-C Charging Cable                 2   11.950000   \n",
       "2   176559  Bose SoundSport Headphones                 1   99.989998   \n",
       "3   176560                Google Phone                 1  600.000000   \n",
       "4   176560            Wired Headphones                 1   11.990000   \n",
       "5   176561            Wired Headphones                 1   11.990000   \n",
       "\n",
       "           Order Date     Revenue  Year  Month  day  Hour MonthName  \n",
       "0 2019-04-19 08:46:00   23.900000  2019      4   19     8     April  \n",
       "2 2019-04-07 22:30:00   99.989998  2019      4    7    22     April  \n",
       "3 2019-04-12 14:38:00  600.000000  2019      4   12    14     April  \n",
       "4 2019-04-12 14:38:00   11.990000  2019      4   12    14     April  \n",
       "5 2019-04-30 09:27:00   11.990000  2019      4   30     9     April  "
      ]
     },
     "execution_count": 264,
     "metadata": {},
     "output_type": "execute_result"
    }
   ],
   "source": [
    "mydata.head()"
   ]
  },
  {
   "cell_type": "code",
   "execution_count": 265,
   "id": "9bd4c856",
   "metadata": {},
   "outputs": [],
   "source": [
    "mydata['MonthName'] = pd.Categorical(mydata['MonthName'], categories = ['January', 'February', 'March', 'April', 'May','June','July','August','September','October','November','December'], ordered = True)"
   ]
  },
  {
   "cell_type": "code",
   "execution_count": 266,
   "id": "a995d45b",
   "metadata": {},
   "outputs": [],
   "source": [
    "month_count_revenue = mydata.groupby(by = 'MonthName').agg({'Quantity Ordered':'sum', 'Revenue':'sum'}).reset_index()\n",
    "month_count_revenue.rename(columns = {'Quantity Ordered':'TotalQuan', 'Revenue':'TotalRevenue'}, inplace = True)"
   ]
  },
  {
   "cell_type": "code",
   "execution_count": 267,
   "id": "74112d55",
   "metadata": {},
   "outputs": [],
   "source": [
    "month_count_revenue.sort_values(by = 'MonthName', ascending  = True, inplace = True)"
   ]
  },
  {
   "cell_type": "code",
   "execution_count": 268,
   "id": "bb178697",
   "metadata": {},
   "outputs": [],
   "source": [
    "month_count_revenue['TotalQuanRate'] = month_count_revenue['TotalQuan']*100 / month_count_revenue['TotalQuan'].sum()\n",
    "month_count_revenue['TotalRevenueRate'] = month_count_revenue['TotalRevenue']*100 / month_count_revenue['TotalRevenue'].sum()"
   ]
  },
  {
   "cell_type": "code",
   "execution_count": 269,
   "id": "f4f3c501",
   "metadata": {},
   "outputs": [
    {
     "data": {
      "text/html": [
       "<div>\n",
       "<style scoped>\n",
       "    .dataframe tbody tr th:only-of-type {\n",
       "        vertical-align: middle;\n",
       "    }\n",
       "\n",
       "    .dataframe tbody tr th {\n",
       "        vertical-align: top;\n",
       "    }\n",
       "\n",
       "    .dataframe thead th {\n",
       "        text-align: right;\n",
       "    }\n",
       "</style>\n",
       "<table border=\"1\" class=\"dataframe\">\n",
       "  <thead>\n",
       "    <tr style=\"text-align: right;\">\n",
       "      <th></th>\n",
       "      <th>TotalQuan</th>\n",
       "      <th>TotalRevenue</th>\n",
       "      <th>TotalQuanRate</th>\n",
       "      <th>TotalRevenueRate</th>\n",
       "    </tr>\n",
       "  </thead>\n",
       "  <tbody>\n",
       "    <tr>\n",
       "      <th>count</th>\n",
       "      <td>12.000000</td>\n",
       "      <td>1.200000e+01</td>\n",
       "      <td>12.000000</td>\n",
       "      <td>12.000000</td>\n",
       "    </tr>\n",
       "    <tr>\n",
       "      <th>mean</th>\n",
       "      <td>1714.000000</td>\n",
       "      <td>2.830049e+05</td>\n",
       "      <td>8.333333</td>\n",
       "      <td>8.333334</td>\n",
       "    </tr>\n",
       "    <tr>\n",
       "      <th>std</th>\n",
       "      <td>5928.343399</td>\n",
       "      <td>9.770370e+05</td>\n",
       "      <td>28.823140</td>\n",
       "      <td>28.769735</td>\n",
       "    </tr>\n",
       "    <tr>\n",
       "      <th>min</th>\n",
       "      <td>0.000000</td>\n",
       "      <td>0.000000e+00</td>\n",
       "      <td>0.000000</td>\n",
       "      <td>0.000000</td>\n",
       "    </tr>\n",
       "    <tr>\n",
       "      <th>25%</th>\n",
       "      <td>0.000000</td>\n",
       "      <td>0.000000e+00</td>\n",
       "      <td>0.000000</td>\n",
       "      <td>0.000000</td>\n",
       "    </tr>\n",
       "    <tr>\n",
       "      <th>50%</th>\n",
       "      <td>0.000000</td>\n",
       "      <td>0.000000e+00</td>\n",
       "      <td>0.000000</td>\n",
       "      <td>0.000000</td>\n",
       "    </tr>\n",
       "    <tr>\n",
       "      <th>75%</th>\n",
       "      <td>0.000000</td>\n",
       "      <td>0.000000e+00</td>\n",
       "      <td>0.000000</td>\n",
       "      <td>0.000000</td>\n",
       "    </tr>\n",
       "    <tr>\n",
       "      <th>max</th>\n",
       "      <td>20539.000000</td>\n",
       "      <td>3.385500e+06</td>\n",
       "      <td>99.859004</td>\n",
       "      <td>99.689079</td>\n",
       "    </tr>\n",
       "  </tbody>\n",
       "</table>\n",
       "</div>"
      ],
      "text/plain": [
       "          TotalQuan  TotalRevenue  TotalQuanRate  TotalRevenueRate\n",
       "count     12.000000  1.200000e+01      12.000000         12.000000\n",
       "mean    1714.000000  2.830049e+05       8.333333          8.333334\n",
       "std     5928.343399  9.770370e+05      28.823140         28.769735\n",
       "min        0.000000  0.000000e+00       0.000000          0.000000\n",
       "25%        0.000000  0.000000e+00       0.000000          0.000000\n",
       "50%        0.000000  0.000000e+00       0.000000          0.000000\n",
       "75%        0.000000  0.000000e+00       0.000000          0.000000\n",
       "max    20539.000000  3.385500e+06      99.859004         99.689079"
      ]
     },
     "execution_count": 269,
     "metadata": {},
     "output_type": "execute_result"
    }
   ],
   "source": [
    "month_count_revenue.describe()"
   ]
  },
  {
   "cell_type": "code",
   "execution_count": 270,
   "id": "67e7a8a9",
   "metadata": {},
   "outputs": [
    {
     "data": {
      "image/png": "[encoded data removed]",
      "text/plain": [
       "<Figure size 1152x576 with 1 Axes>"
      ]
     },
     "metadata": {
      "needs_background": "light"
     },
     "output_type": "display_data"
    }
   ],
   "source": [
    "fig, ax = plt.subplots(figsize = (16,8))\n",
    "width = 0.35\n",
    "x = np.arange(month_count_revenue.shape[0])\n",
    "rect1 = ax.bar(x = x-width/2 , height = month_count_revenue['TotalQuanRate'], width = 0.3, color = '#FFA500',label = 'TotalQuantityRate')\n",
    "rect2 = ax.bar(x = x+width/2, height = month_count_revenue['TotalRevenueRate'], width = 0.3, color = '#FF4500', label = 'TotalRevenueRate')\n",
    "ax.set_xticks(x)\n",
    "ax.set_xticklabels(month_count_revenue['MonthName'], fontsize = 12)\n",
    "ax.set_ylim(0,15)\n",
    "ax.legend(loc = 'upper left')\n",
    "ax.bar_label(rect1, padding = 3,fmt = '%.1f' )\n",
    "ax.bar_label(rect2, padding = 3, fmt = '%.1f')\n",
    "ax.set_xlabel('Order Count and Revenue', fontsize = 16)\n",
    "ax.set_ylabel('Order Count and Revenue Rate', fontsize = 16)\n",
    "ax.set_title('Order Total Count and Total Revenue by Month', fontsize = 18, weight = 'semibold')\n",
    "ax.spines['right'].set_visible(False)\n",
    "ax.spines['top'].set_visible(False)\n",
    "ax.yaxis.set_ticks_position('none')\n",
    "ax.xaxis.set_ticks_position('none')\n",
    "plt.show()"
   ]
  },
  {
   "cell_type": "code",
   "execution_count": 271,
   "id": "e09ca9d1",
   "metadata": {},
   "outputs": [
    {
     "data": {
      "text/plain": [
       "['Solarize_Light2',\n",
       " '_classic_test_patch',\n",
       " 'bmh',\n",
       " 'classic',\n",
       " 'dark_background',\n",
       " 'fast',\n",
       " 'fivethirtyeight',\n",
       " 'ggplot',\n",
       " 'grayscale',\n",
       " 'seaborn',\n",
       " 'seaborn-bright',\n",
       " 'seaborn-colorblind',\n",
       " 'seaborn-dark',\n",
       " 'seaborn-dark-palette',\n",
       " 'seaborn-darkgrid',\n",
       " 'seaborn-deep',\n",
       " 'seaborn-muted',\n",
       " 'seaborn-notebook',\n",
       " 'seaborn-paper',\n",
       " 'seaborn-pastel',\n",
       " 'seaborn-poster',\n",
       " 'seaborn-talk',\n",
       " 'seaborn-ticks',\n",
       " 'seaborn-white',\n",
       " 'seaborn-whitegrid',\n",
       " 'tableau-colorblind10']"
      ]
     },
     "execution_count": 271,
     "metadata": {},
     "output_type": "execute_result"
    }
   ],
   "source": [
    "plt.style.available"
   ]
  },
  {
   "cell_type": "code",
   "execution_count": 272,
   "id": "647ecd7f",
   "metadata": {},
   "outputs": [
    {
     "data": {
      "image/png": "[encoded data removed]",
      "text/plain": [
       "<Figure size 1296x432 with 1 Axes>"
      ]
     },
     "metadata": {
      "needs_background": "light"
     },
     "output_type": "display_data"
    }
   ],
   "source": [
    "\n",
    "fig, ax = plt.subplots(figsize = (18,6))\n",
    "plt.style.use('fivethirtyeight')\n",
    "sns.countplot(x = 'Product', data = mydata, ax = ax)\n",
    "plt.setp(ax.get_xticklabels(), rotation = 90, fontsize = 12)\n",
    "plt.setp(ax.patches, width = 0.5)\n",
    "ax.spines['right'].set_visible(False)\n",
    "ax.spines['top'].set_visible(False)\n",
    "ax.xaxis.set_ticks_position('none')\n",
    "ax.set_title('Year 2019 Product Sales')\n",
    "plt.show()\n"
   ]
  },
  {
   "cell_type": "code",
   "execution_count": 273,
   "id": "9aa113a8",
   "metadata": {},
   "outputs": [
    {
     "data": {
      "text/plain": [
       "array(['USB-C Charging Cable', 'Bose SoundSport Headphones',\n",
       "       'Google Phone', 'Wired Headphones', 'Macbook Pro Laptop',\n",
       "       'Lightning Charging Cable', '27in 4K Gaming Monitor',\n",
       "       'AA Batteries (4-pack)', 'Apple Airpods Headphones',\n",
       "       'AAA Batteries (4-pack)', 'iPhone', 'Flatscreen TV',\n",
       "       '27in FHD Monitor', '20in Monitor', 'LG Dryer', 'ThinkPad Laptop',\n",
       "       'Vareebadd Phone', 'LG Washing Machine', '34in Ultrawide Monitor'],\n",
       "      dtype=object)"
      ]
     },
     "execution_count": 273,
     "metadata": {},
     "output_type": "execute_result"
    }
   ],
   "source": [
    "mydata['Product'].unique()"
   ]
  },
  {
   "cell_type": "code",
   "execution_count": 274,
   "id": "f0d27a5f",
   "metadata": {},
   "outputs": [
    {
     "data": {
      "text/plain": [
       "<AxesSubplot:xlabel='Revenue', ylabel='Density'>"
      ]
     },
     "execution_count": 274,
     "metadata": {},
     "output_type": "execute_result"
    },
    {
     "data": {
      "image/png": "[encoded data removed]",
      "text/plain": [
       "<Figure size 432x288 with 1 Axes>"
      ]
     },
     "metadata": {},
     "output_type": "display_data"
    }
   ],
   "source": [
    "import warnings\n",
    "warnings.filterwarnings('ignore')\n",
    "sns.distplot(mydata['Revenue'])"
   ]
  },
  {
   "cell_type": "code",
   "execution_count": 277,
   "id": "8cf627b8",
   "metadata": {},
   "outputs": [
    {
     "data": {
      "text/html": [
       "<div>\n",
       "<style scoped>\n",
       "    .dataframe tbody tr th:only-of-type {\n",
       "        vertical-align: middle;\n",
       "    }\n",
       "\n",
       "    .dataframe tbody tr th {\n",
       "        vertical-align: top;\n",
       "    }\n",
       "\n",
       "    .dataframe thead th {\n",
       "        text-align: right;\n",
       "    }\n",
       "</style>\n",
       "<table border=\"1\" class=\"dataframe\">\n",
       "  <thead>\n",
       "    <tr style=\"text-align: right;\">\n",
       "      <th></th>\n",
       "      <th>level_0</th>\n",
       "      <th>AddrIdx</th>\n",
       "      <th>Addr</th>\n",
       "      <th>Products</th>\n",
       "      <th>ProductsLen</th>\n",
       "    </tr>\n",
       "  </thead>\n",
       "  <tbody>\n",
       "    <tr>\n",
       "      <th>0</th>\n",
       "      <td>0</td>\n",
       "      <td>0</td>\n",
       "      <td>1 14th St, New York City, NY 10001</td>\n",
       "      <td>[Bose SoundSport Headphones]</td>\n",
       "      <td>1</td>\n",
       "    </tr>\n",
       "    <tr>\n",
       "      <th>1</th>\n",
       "      <td>1</td>\n",
       "      <td>1</td>\n",
       "      <td>1 1st St, Austin, TX 73301</td>\n",
       "      <td>[Wired Headphones]</td>\n",
       "      <td>1</td>\n",
       "    </tr>\n",
       "    <tr>\n",
       "      <th>2</th>\n",
       "      <td>2</td>\n",
       "      <td>2</td>\n",
       "      <td>1 5th St, New York City, NY 10001</td>\n",
       "      <td>[AA Batteries (4-pack)]</td>\n",
       "      <td>1</td>\n",
       "    </tr>\n",
       "    <tr>\n",
       "      <th>3</th>\n",
       "      <td>3</td>\n",
       "      <td>3</td>\n",
       "      <td>1 6th St, Austin, TX 73301</td>\n",
       "      <td>[LG Dryer]</td>\n",
       "      <td>1</td>\n",
       "    </tr>\n",
       "    <tr>\n",
       "      <th>4</th>\n",
       "      <td>4</td>\n",
       "      <td>4</td>\n",
       "      <td>1 6th St, Los Angeles, CA 90001</td>\n",
       "      <td>[Bose SoundSport Headphones]</td>\n",
       "      <td>1</td>\n",
       "    </tr>\n",
       "    <tr>\n",
       "      <th>...</th>\n",
       "      <td>...</td>\n",
       "      <td>...</td>\n",
       "      <td>...</td>\n",
       "      <td>...</td>\n",
       "      <td>...</td>\n",
       "    </tr>\n",
       "    <tr>\n",
       "      <th>17114</th>\n",
       "      <td>17114</td>\n",
       "      <td>17114</td>\n",
       "      <td>999 Lake St, San Francisco, CA 94016</td>\n",
       "      <td>[USB-C Charging Cable]</td>\n",
       "      <td>1</td>\n",
       "    </tr>\n",
       "    <tr>\n",
       "      <th>17115</th>\n",
       "      <td>17115</td>\n",
       "      <td>17115</td>\n",
       "      <td>999 Madison St, Seattle, WA 98101</td>\n",
       "      <td>[34in Ultrawide Monitor]</td>\n",
       "      <td>1</td>\n",
       "    </tr>\n",
       "    <tr>\n",
       "      <th>17116</th>\n",
       "      <td>17116</td>\n",
       "      <td>17116</td>\n",
       "      <td>999 North St, Dallas, TX 75001</td>\n",
       "      <td>[Lightning Charging Cable]</td>\n",
       "      <td>1</td>\n",
       "    </tr>\n",
       "    <tr>\n",
       "      <th>17117</th>\n",
       "      <td>17117</td>\n",
       "      <td>17117</td>\n",
       "      <td>999 North St, Seattle, WA 98101</td>\n",
       "      <td>[AAA Batteries (4-pack)]</td>\n",
       "      <td>1</td>\n",
       "    </tr>\n",
       "    <tr>\n",
       "      <th>17118</th>\n",
       "      <td>17118</td>\n",
       "      <td>17118</td>\n",
       "      <td>999 Pine St, Boston, MA 02215</td>\n",
       "      <td>[AA Batteries (4-pack)]</td>\n",
       "      <td>1</td>\n",
       "    </tr>\n",
       "  </tbody>\n",
       "</table>\n",
       "<p>17119 rows × 5 columns</p>\n",
       "</div>"
      ],
      "text/plain": [
       "       level_0  AddrIdx                                  Addr  \\\n",
       "0            0        0    1 14th St, New York City, NY 10001   \n",
       "1            1        1            1 1st St, Austin, TX 73301   \n",
       "2            2        2     1 5th St, New York City, NY 10001   \n",
       "3            3        3            1 6th St, Austin, TX 73301   \n",
       "4            4        4       1 6th St, Los Angeles, CA 90001   \n",
       "...        ...      ...                                   ...   \n",
       "17114    17114    17114  999 Lake St, San Francisco, CA 94016   \n",
       "17115    17115    17115     999 Madison St, Seattle, WA 98101   \n",
       "17116    17116    17116        999 North St, Dallas, TX 75001   \n",
       "17117    17117    17117       999 North St, Seattle, WA 98101   \n",
       "17118    17118    17118         999 Pine St, Boston, MA 02215   \n",
       "\n",
       "                           Products  ProductsLen  \n",
       "0      [Bose SoundSport Headphones]            1  \n",
       "1                [Wired Headphones]            1  \n",
       "2           [AA Batteries (4-pack)]            1  \n",
       "3                        [LG Dryer]            1  \n",
       "4      [Bose SoundSport Headphones]            1  \n",
       "...                             ...          ...  \n",
       "17114        [USB-C Charging Cable]            1  \n",
       "17115      [34in Ultrawide Monitor]            1  \n",
       "17116    [Lightning Charging Cable]            1  \n",
       "17117      [AAA Batteries (4-pack)]            1  \n",
       "17118       [AA Batteries (4-pack)]            1  \n",
       "\n",
       "[17119 rows x 5 columns]"
      ]
     },
     "execution_count": 277,
     "metadata": {},
     "output_type": "execute_result"
    }
   ],
   "source": [
    "AddrProducts.rename(columns = {'index':'AddrIdx'})"
   ]
  },
  {
   "cell_type": "code",
   "execution_count": 278,
   "id": "852bfc03",
   "metadata": {},
   "outputs": [],
   "source": [
    "AddrProducts['ProductsLen'] = AddrProducts['Products'].apply(lambda x:len(x))"
   ]
  },
  {
   "cell_type": "code",
   "execution_count": 279,
   "id": "c64eeb87",
   "metadata": {},
   "outputs": [],
   "source": [
    "AddrProductsG1 = AddrProducts.query('ProductsLen>1')"
   ]
  },
  {
   "cell_type": "code",
   "execution_count": 280,
   "id": "2b5d35d1",
   "metadata": {},
   "outputs": [
    {
     "data": {
      "text/plain": [
       "6        [Apple Airpods Headphones, 27in 4K Gaming Moni...\n",
       "7                     [Google Phone, USB-C Charging Cable]\n",
       "11       [iPhone, Lightning Charging Cable, Wired Headp...\n",
       "23                          [Flatscreen TV, Flatscreen TV]\n",
       "37                      [iPhone, Apple Airpods Headphones]\n",
       "                               ...                        \n",
       "17073           [AAA Batteries (4-pack), 27in FHD Monitor]\n",
       "17074        [AA Batteries (4-pack), USB-C Charging Cable]\n",
       "17094                [USB-C Charging Cable, Flatscreen TV]\n",
       "17099                   [iPhone, Lightning Charging Cable]\n",
       "17101       [34in Ultrawide Monitor, USB-C Charging Cable]\n",
       "Name: Products, Length: 1101, dtype: object"
      ]
     },
     "execution_count": 280,
     "metadata": {},
     "output_type": "execute_result"
    }
   ],
   "source": [
    "addrPro = AddrProductsG1['Products']\n",
    "addrPro"
   ]
  },
  {
   "cell_type": "code",
   "execution_count": 281,
   "id": "26b65241",
   "metadata": {},
   "outputs": [],
   "source": [
    "te = TransactionEncoder()\n",
    "te.fit(addrPro)\n",
    "te_ary = te.transform(addrPro)\n",
    "te_df = pd.DataFrame(te_ary, columns=te.columns_)"
   ]
  },
  {
   "cell_type": "code",
   "execution_count": 282,
   "id": "4f3568e0",
   "metadata": {},
   "outputs": [],
   "source": [
    "def get_frequent_items(te_df, min_support = 0.02):\n",
    "    frequent_items = apriori(te_df, min_support=min_support, use_colnames=True)\n",
    "    frequent_items['length'] = frequent_items['itemsets'].apply(lambda x: len(x))\n",
    "    return frequent_items.query('length>1')"
   ]
  },
  {
   "cell_type": "code",
   "execution_count": 283,
   "id": "89d2ad86",
   "metadata": {},
   "outputs": [
    {
     "data": {
      "text/html": [
       "<div>\n",
       "<style scoped>\n",
       "    .dataframe tbody tr th:only-of-type {\n",
       "        vertical-align: middle;\n",
       "    }\n",
       "\n",
       "    .dataframe tbody tr th {\n",
       "        vertical-align: top;\n",
       "    }\n",
       "\n",
       "    .dataframe thead th {\n",
       "        text-align: right;\n",
       "    }\n",
       "</style>\n",
       "<table border=\"1\" class=\"dataframe\">\n",
       "  <thead>\n",
       "    <tr style=\"text-align: right;\">\n",
       "      <th></th>\n",
       "      <th>support</th>\n",
       "      <th>itemsets</th>\n",
       "      <th>length</th>\n",
       "    </tr>\n",
       "  </thead>\n",
       "  <tbody>\n",
       "    <tr>\n",
       "      <th>17</th>\n",
       "      <td>0.036331</td>\n",
       "      <td>(iPhone, Apple Airpods Headphones)</td>\n",
       "      <td>2</td>\n",
       "    </tr>\n",
       "    <tr>\n",
       "      <th>18</th>\n",
       "      <td>0.099001</td>\n",
       "      <td>(USB-C Charging Cable, Google Phone)</td>\n",
       "      <td>2</td>\n",
       "    </tr>\n",
       "    <tr>\n",
       "      <th>19</th>\n",
       "      <td>0.041780</td>\n",
       "      <td>(Wired Headphones, Google Phone)</td>\n",
       "      <td>2</td>\n",
       "    </tr>\n",
       "    <tr>\n",
       "      <th>20</th>\n",
       "      <td>0.099001</td>\n",
       "      <td>(iPhone, Lightning Charging Cable)</td>\n",
       "      <td>2</td>\n",
       "    </tr>\n",
       "    <tr>\n",
       "      <th>21</th>\n",
       "      <td>0.035422</td>\n",
       "      <td>(Vareebadd Phone, USB-C Charging Cable)</td>\n",
       "      <td>2</td>\n",
       "    </tr>\n",
       "    <tr>\n",
       "      <th>22</th>\n",
       "      <td>0.041780</td>\n",
       "      <td>(Wired Headphones, iPhone)</td>\n",
       "      <td>2</td>\n",
       "    </tr>\n",
       "  </tbody>\n",
       "</table>\n",
       "</div>"
      ],
      "text/plain": [
       "     support                                 itemsets  length\n",
       "17  0.036331       (iPhone, Apple Airpods Headphones)       2\n",
       "18  0.099001     (USB-C Charging Cable, Google Phone)       2\n",
       "19  0.041780         (Wired Headphones, Google Phone)       2\n",
       "20  0.099001       (iPhone, Lightning Charging Cable)       2\n",
       "21  0.035422  (Vareebadd Phone, USB-C Charging Cable)       2\n",
       "22  0.041780               (Wired Headphones, iPhone)       2"
      ]
     },
     "execution_count": 283,
     "metadata": {},
     "output_type": "execute_result"
    }
   ],
   "source": [
    "get_frequent_items(te_df, min_support = 0.03)"
   ]
  },
  {
   "cell_type": "code",
   "execution_count": 284,
   "id": "4e57bf6a",
   "metadata": {},
   "outputs": [],
   "source": [
    "te.fit(AddrProducts['Products'])\n",
    "te_full_array = te.transform(AddrProducts['Products'])\n",
    "te_full_df = pd.DataFrame(te_full_array, columns=te.columns_)"
   ]
  },
  {
   "cell_type": "code",
   "execution_count": 285,
   "id": "2aba5e85",
   "metadata": {},
   "outputs": [],
   "source": [
    "productPercent = te_full_df.sum(axis = 0)/te_full_df.sum(axis = 0).sum()"
   ]
  },
  {
   "cell_type": "code",
   "execution_count": 286,
   "id": "f2d674a9",
   "metadata": {},
   "outputs": [
    {
     "name": "stdout",
     "output_type": "stream",
     "text": [
      "Lightning Charging Cable      0.119897\n",
      "USB-C Charging Cable          0.113641\n",
      "AA Batteries (4-pack)         0.112709\n",
      "AAA Batteries (4-pack)        0.108593\n",
      "Wired Headphones              0.103490\n",
      "Apple Airpods Headphones      0.082803\n",
      "Bose SoundSport Headphones    0.069963\n",
      "27in FHD Monitor              0.040277\n",
      "iPhone                        0.038027\n",
      "34in Ultrawide Monitor        0.035558\n",
      "Google Phone                  0.031771\n",
      "27in 4K Gaming Monitor        0.030893\n",
      "Flatscreen TV                 0.025022\n",
      "Macbook Pro Laptop            0.024857\n",
      "ThinkPad Laptop               0.021510\n",
      "20in Monitor                  0.021345\n",
      "Vareebadd Phone               0.012072\n",
      "LG Dryer                      0.004225\n",
      "LG Washing Machine            0.003347\n",
      "dtype: float64\n"
     ]
    }
   ],
   "source": [
    "D = {}\n",
    "D =productPercent.sort_values(ascending = False)\n",
    "print(D)"
   ]
  },
  {
   "cell_type": "code",
   "execution_count": 287,
   "id": "d1955c46",
   "metadata": {
    "scrolled": true
   },
   "outputs": [
    {
     "name": "stdout",
     "output_type": "stream",
     "text": [
      "Index(['Lightning Charging Cable', 'USB-C Charging Cable',\n",
      "       'AA Batteries (4-pack)', 'AAA Batteries (4-pack)', 'Wired Headphones',\n",
      "       'Apple Airpods Headphones', 'Bose SoundSport Headphones',\n",
      "       '27in FHD Monitor', 'iPhone', '34in Ultrawide Monitor', 'Google Phone',\n",
      "       '27in 4K Gaming Monitor', 'Flatscreen TV', 'Macbook Pro Laptop',\n",
      "       'ThinkPad Laptop', '20in Monitor', 'Vareebadd Phone', 'LG Dryer',\n",
      "       'LG Washing Machine'],\n",
      "      dtype='object')\n"
     ]
    }
   ],
   "source": [
    "print(D.keys())"
   ]
  },
  {
   "cell_type": "code",
   "execution_count": 288,
   "id": "df5dd3aa",
   "metadata": {
    "scrolled": false
   },
   "outputs": [
    {
     "name": "stdout",
     "output_type": "stream",
     "text": [
      "Old Profit %10\n",
      "New Profit %5\n"
     ]
    }
   ],
   "source": [
    "old_profit=int(input(\"Old Profit %\"))\n",
    "new_profit=int(input(\"New Profit %\"))\n",
    "temp_products = D.keys()\n",
    "for i in temp_products:\n",
    "    price = D_new[i]\n",
    "    D_new[i]=price*(100+new_profit)/(100+old_profit)"
   ]
  },
  {
   "cell_type": "code",
   "execution_count": 289,
   "id": "66da4a5c",
   "metadata": {},
   "outputs": [],
   "source": [
    "D_new=dict(zip(mydata['Product'], mydata['Price Each']))"
   ]
  },
  {
   "cell_type": "code",
   "execution_count": 300,
   "id": "3fecef93",
   "metadata": {
    "scrolled": true
   },
   "outputs": [
    {
     "name": "stdout",
     "output_type": "stream",
     "text": [
      "USB-C Charging Cable           11.949999809265137\n",
      "Bose SoundSport Headphones     99.98999786376953\n",
      "Google Phone                   600.0\n",
      "Wired Headphones               11.989999771118164\n",
      "Macbook Pro Laptop             1700.0\n",
      "Lightning Charging Cable       14.949999809265137\n",
      "27in 4K Gaming Monitor         389.989990234375\n",
      "AA Batteries (4-pack)          3.8399999141693115\n",
      "Apple Airpods Headphones       150.0\n",
      "AAA Batteries (4-pack)         2.990000009536743\n",
      "iPhone                         700.0\n",
      "Flatscreen TV                  300.0\n",
      "27in FHD Monitor               149.99000549316406\n",
      "20in Monitor                   109.98999786376953\n",
      "LG Dryer                       600.0\n",
      "ThinkPad Laptop                999.989990234375\n",
      "Vareebadd Phone                400.0\n",
      "LG Washing Machine             600.0\n",
      "34in Ultrawide Monitor         379.989990234375\n"
     ]
    }
   ],
   "source": [
    "template=template = \"{0:30} {1:1}\"\n",
    "\n",
    "for i in D_new.keys():\n",
    "    print(template.format(i, D_new[i]))"
   ]
  },
  {
   "cell_type": "code",
   "execution_count": null,
   "id": "9fd46fb8",
   "metadata": {},
   "outputs": [],
   "source": []
  }
 ],
 "metadata": {
  "kernelspec": {
   "display_name": "Python 3 (ipykernel)",
   "language": "python",
   "name": "python3"
  },
  "language_info": {
   "codemirror_mode": {
    "name": "ipython",
    "version": 3
   },
   "file_extension": ".py",
   "mimetype": "text/x-python",
   "name": "python",
   "nbconvert_exporter": "python",
   "pygments_lexer": "ipython3",
   "version": "3.8.8"
  }
 },
 "nbformat": 4,
 "nbformat_minor": 5
}
